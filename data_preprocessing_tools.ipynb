{
  "nbformat": 4,
  "nbformat_minor": 0,
  "metadata": {
    "colab": {
      "provenance": []
    },
    "kernelspec": {
      "name": "python3",
      "display_name": "Python 3"
    }
  },
  "cells": [
    {
      "cell_type": "markdown",
      "metadata": {
        "id": "37puETfgRzzg"
      },
      "source": [
        "# Data Preprocessing Tools"
      ]
    },
    {
      "cell_type": "markdown",
      "metadata": {
        "id": "EoRP98MpR-qj"
      },
      "source": [
        "## Importing the libraries"
      ]
    },
    {
      "cell_type": "code",
      "source": [
        "#importing the libraries\n",
        "\n",
        "import numpy as np # to work with arrays\n",
        "import matplotlib.pyplot as plt # plotting the charts graphs so we particularly call pyplot\n",
        "import pandas as pd # importring the datasets, creating vectors"
      ],
      "metadata": {
        "id": "Xfv7DwbmWJkw"
      },
      "execution_count": 1,
      "outputs": []
    },
    {
      "cell_type": "markdown",
      "metadata": {
        "id": "RopL7tUZSQkT"
      },
      "source": [
        "## Importing the dataset"
      ]
    },
    {
      "cell_type": "code",
      "source": [
        "\n",
        "#importing the existing csv dataset using pandas library\n",
        "dataset=pd.read_csv('Data.csv')\n",
        "\n",
        "#creating two new entities of matrix with features and dependent variable vector\n",
        "# so in the data.csv file , salary, Country, age are features whereas purchased column is dependent\n",
        "\n",
        "X=dataset.iloc[:, :-1].values #iloc is used to locate all the indices in the dataset so ':' in python helps to select a particular range and if upper or lower bounds are not specified, we consider taking everything by default\n",
        "#so we are selecting all the rows by specifying : in teh iloc function and then the column by excluding the last column which actually represents the dependent variable vector column\n",
        "y=dataset.iloc[:, -1].values\n",
        "\n"
      ],
      "metadata": {
        "id": "vvwScuGqXDOS"
      },
      "execution_count": 3,
      "outputs": []
    },
    {
      "cell_type": "code",
      "source": [
        "print(X)"
      ],
      "metadata": {
        "colab": {
          "base_uri": "https://localhost:8080/"
        },
        "id": "fH5DUWf-X0XU",
        "outputId": "68de535f-e8ad-41d2-e1a3-06662eadaea7"
      },
      "execution_count": 4,
      "outputs": [
        {
          "output_type": "stream",
          "name": "stdout",
          "text": [
            "[['France' 44.0 72000.0]\n",
            " ['Spain' 27.0 48000.0]\n",
            " ['Germany' 30.0 54000.0]\n",
            " ['Spain' 38.0 61000.0]\n",
            " ['Germany' 40.0 nan]\n",
            " ['France' 35.0 58000.0]\n",
            " ['Spain' nan 52000.0]\n",
            " ['France' 48.0 79000.0]\n",
            " ['Germany' 50.0 83000.0]\n",
            " ['France' 37.0 67000.0]]\n"
          ]
        }
      ]
    },
    {
      "cell_type": "code",
      "source": [
        "print(y)"
      ],
      "metadata": {
        "colab": {
          "base_uri": "https://localhost:8080/"
        },
        "id": "_6zW6qjVbBxr",
        "outputId": "cea52ffd-280b-49d9-876f-4cb42b5ff4a6"
      },
      "execution_count": 5,
      "outputs": [
        {
          "output_type": "stream",
          "name": "stdout",
          "text": [
            "['No' 'Yes' 'No' 'No' 'Yes' 'Yes' 'No' 'Yes' 'No' 'Yes']\n"
          ]
        }
      ]
    },
    {
      "cell_type": "markdown",
      "metadata": {
        "id": "nhfKXNxlSabC"
      },
      "source": [
        "## Taking care of missing data"
      ]
    },
    {
      "cell_type": "code",
      "source": [
        "from sklearn.impute import SimpleImputer #importing simple Imputer class to replace the missing values of the data with the average of that column values\n",
        "imputer=SimpleImputer(missing_values=np.nan, strategy='mean') #creating an instance where passed missing values which are found using np.nan and the method used as mean\n",
        "#fit method will look at missing values in the columns and find the average of the columns and used transform method to apply th eaverage or replace the missing value with the average\n",
        "imputer.fit(X[:, 1:3])#also fit only accepts columns with numerical values not some chars or strings\n",
        "X[:, 1:3]=imputer.transform(X[:, 1:3]) #this method now returns with updated data\n"
      ],
      "metadata": {
        "id": "7GutBgN1oDBb"
      },
      "execution_count": 7,
      "outputs": []
    },
    {
      "cell_type": "code",
      "source": [
        "print(X)"
      ],
      "metadata": {
        "colab": {
          "base_uri": "https://localhost:8080/"
        },
        "id": "XRr2OcfNxKAA",
        "outputId": "9aa3f4aa-725d-48be-a22a-aed74d61b26b"
      },
      "execution_count": 8,
      "outputs": [
        {
          "output_type": "stream",
          "name": "stdout",
          "text": [
            "[['France' 44.0 72000.0]\n",
            " ['Spain' 27.0 48000.0]\n",
            " ['Germany' 30.0 54000.0]\n",
            " ['Spain' 38.0 61000.0]\n",
            " ['Germany' 40.0 63777.77777777778]\n",
            " ['France' 35.0 58000.0]\n",
            " ['Spain' 38.77777777777778 52000.0]\n",
            " ['France' 48.0 79000.0]\n",
            " ['Germany' 50.0 83000.0]\n",
            " ['France' 37.0 67000.0]]\n"
          ]
        }
      ]
    },
    {
      "cell_type": "markdown",
      "metadata": {
        "id": "CriG6VzVSjcK"
      },
      "source": [
        "## Encoding categorical data"
      ]
    },
    {
      "cell_type": "markdown",
      "metadata": {
        "id": "AhSpdQWeSsFh"
      },
      "source": [
        "### Encoding the Independent Variable"
      ]
    },
    {
      "cell_type": "markdown",
      "metadata": {
        "id": "DXh8oVSITIc6"
      },
      "source": [
        "### Encoding the Dependent Variable"
      ]
    },
    {
      "cell_type": "markdown",
      "metadata": {
        "id": "qb_vcgm3qZKW"
      },
      "source": [
        "## Splitting the dataset into the Training set and Test set"
      ]
    },
    {
      "cell_type": "markdown",
      "metadata": {
        "id": "TpGqbS4TqkIR"
      },
      "source": [
        "## Feature Scaling"
      ]
    }
  ]
}